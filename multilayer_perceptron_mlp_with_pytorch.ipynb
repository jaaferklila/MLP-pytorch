{
  "nbformat": 4,
  "nbformat_minor": 0,
  "metadata": {
    "colab": {
      "provenance": []
    },
    "kernelspec": {
      "name": "python3",
      "display_name": "Python 3"
    },
    "language_info": {
      "name": "python"
    },
    "gpuClass": "standard"
  },
  "cells": [
    {
      "cell_type": "markdown",
      "source": [
        "# connect to google colab"
      ],
      "metadata": {
        "id": "ZaxFT_n1LAHW"
      }
    },
    {
      "cell_type": "code",
      "execution_count": 190,
      "metadata": {
        "colab": {
          "base_uri": "https://localhost:8080/"
        },
        "id": "ysBUv6BnHyjL",
        "outputId": "c62bbee7-05aa-453a-8495-b7e4f9259383"
      },
      "outputs": [
        {
          "output_type": "stream",
          "name": "stdout",
          "text": [
            "Drive already mounted at /content/drive; to attempt to forcibly remount, call drive.mount(\"/content/drive\", force_remount=True).\n"
          ]
        }
      ],
      "source": [
        "from google.colab import drive\n",
        "drive.mount('/content/drive')\n"
      ]
    },
    {
      "cell_type": "markdown",
      "source": [
        "# import Library"
      ],
      "metadata": {
        "id": "BCtRjEs7LTJy"
      }
    },
    {
      "cell_type": "code",
      "source": [
        "import pandas as pd\n",
        "import torch"
      ],
      "metadata": {
        "id": "Vt8s2g-hIyPS"
      },
      "execution_count": 191,
      "outputs": []
    },
    {
      "cell_type": "markdown",
      "source": [
        "#  check if GPU available"
      ],
      "metadata": {
        "id": "z7U5SBanLhuT"
      }
    },
    {
      "cell_type": "code",
      "source": [
        "device = torch.device('cuda' if torch.cuda.is_available() else 'cpu')\n",
        "print('Using device:', device)\n",
        "print()"
      ],
      "metadata": {
        "colab": {
          "base_uri": "https://localhost:8080/"
        },
        "id": "GmjJw6SjKITz",
        "outputId": "4baf0a20-820f-41e9-97a3-8210e874745c"
      },
      "execution_count": 192,
      "outputs": [
        {
          "output_type": "stream",
          "name": "stdout",
          "text": [
            "Using device: cpu\n",
            "\n"
          ]
        }
      ]
    },
    {
      "cell_type": "markdown",
      "source": [
        "# download dataset"
      ],
      "metadata": {
        "id": "a1PaLDhGLz3z"
      }
    },
    {
      "cell_type": "code",
      "source": [
        "df = pd.read_csv('/content/drive/MyDrive/diabetes.csv')\n",
        "df.head(2)"
      ],
      "metadata": {
        "id": "4dQ8fWPPIq-q",
        "colab": {
          "base_uri": "https://localhost:8080/",
          "height": 112
        },
        "outputId": "b2fd3085-7993-4546-ebe5-971d9aa9351a"
      },
      "execution_count": 193,
      "outputs": [
        {
          "output_type": "execute_result",
          "data": {
            "text/plain": [
              "   Pregnancies  Glucose  BloodPressure  SkinThickness  Insulin   BMI  \\\n",
              "0            6      148             72             35        0  33.6   \n",
              "1            1       85             66             29        0  26.6   \n",
              "\n",
              "   DiabetesPedigreeFunction  Age  Outcome  \n",
              "0                     0.627   50        1  \n",
              "1                     0.351   31        0  "
            ],
            "text/html": [
              "\n",
              "  <div id=\"df-c85097c7-045d-45b7-8174-e4ab06019465\">\n",
              "    <div class=\"colab-df-container\">\n",
              "      <div>\n",
              "<style scoped>\n",
              "    .dataframe tbody tr th:only-of-type {\n",
              "        vertical-align: middle;\n",
              "    }\n",
              "\n",
              "    .dataframe tbody tr th {\n",
              "        vertical-align: top;\n",
              "    }\n",
              "\n",
              "    .dataframe thead th {\n",
              "        text-align: right;\n",
              "    }\n",
              "</style>\n",
              "<table border=\"1\" class=\"dataframe\">\n",
              "  <thead>\n",
              "    <tr style=\"text-align: right;\">\n",
              "      <th></th>\n",
              "      <th>Pregnancies</th>\n",
              "      <th>Glucose</th>\n",
              "      <th>BloodPressure</th>\n",
              "      <th>SkinThickness</th>\n",
              "      <th>Insulin</th>\n",
              "      <th>BMI</th>\n",
              "      <th>DiabetesPedigreeFunction</th>\n",
              "      <th>Age</th>\n",
              "      <th>Outcome</th>\n",
              "    </tr>\n",
              "  </thead>\n",
              "  <tbody>\n",
              "    <tr>\n",
              "      <th>0</th>\n",
              "      <td>6</td>\n",
              "      <td>148</td>\n",
              "      <td>72</td>\n",
              "      <td>35</td>\n",
              "      <td>0</td>\n",
              "      <td>33.6</td>\n",
              "      <td>0.627</td>\n",
              "      <td>50</td>\n",
              "      <td>1</td>\n",
              "    </tr>\n",
              "    <tr>\n",
              "      <th>1</th>\n",
              "      <td>1</td>\n",
              "      <td>85</td>\n",
              "      <td>66</td>\n",
              "      <td>29</td>\n",
              "      <td>0</td>\n",
              "      <td>26.6</td>\n",
              "      <td>0.351</td>\n",
              "      <td>31</td>\n",
              "      <td>0</td>\n",
              "    </tr>\n",
              "  </tbody>\n",
              "</table>\n",
              "</div>\n",
              "      <button class=\"colab-df-convert\" onclick=\"convertToInteractive('df-c85097c7-045d-45b7-8174-e4ab06019465')\"\n",
              "              title=\"Convert this dataframe to an interactive table.\"\n",
              "              style=\"display:none;\">\n",
              "        \n",
              "  <svg xmlns=\"http://www.w3.org/2000/svg\" height=\"24px\"viewBox=\"0 0 24 24\"\n",
              "       width=\"24px\">\n",
              "    <path d=\"M0 0h24v24H0V0z\" fill=\"none\"/>\n",
              "    <path d=\"M18.56 5.44l.94 2.06.94-2.06 2.06-.94-2.06-.94-.94-2.06-.94 2.06-2.06.94zm-11 1L8.5 8.5l.94-2.06 2.06-.94-2.06-.94L8.5 2.5l-.94 2.06-2.06.94zm10 10l.94 2.06.94-2.06 2.06-.94-2.06-.94-.94-2.06-.94 2.06-2.06.94z\"/><path d=\"M17.41 7.96l-1.37-1.37c-.4-.4-.92-.59-1.43-.59-.52 0-1.04.2-1.43.59L10.3 9.45l-7.72 7.72c-.78.78-.78 2.05 0 2.83L4 21.41c.39.39.9.59 1.41.59.51 0 1.02-.2 1.41-.59l7.78-7.78 2.81-2.81c.8-.78.8-2.07 0-2.86zM5.41 20L4 18.59l7.72-7.72 1.47 1.35L5.41 20z\"/>\n",
              "  </svg>\n",
              "      </button>\n",
              "      \n",
              "  <style>\n",
              "    .colab-df-container {\n",
              "      display:flex;\n",
              "      flex-wrap:wrap;\n",
              "      gap: 12px;\n",
              "    }\n",
              "\n",
              "    .colab-df-convert {\n",
              "      background-color: #E8F0FE;\n",
              "      border: none;\n",
              "      border-radius: 50%;\n",
              "      cursor: pointer;\n",
              "      display: none;\n",
              "      fill: #1967D2;\n",
              "      height: 32px;\n",
              "      padding: 0 0 0 0;\n",
              "      width: 32px;\n",
              "    }\n",
              "\n",
              "    .colab-df-convert:hover {\n",
              "      background-color: #E2EBFA;\n",
              "      box-shadow: 0px 1px 2px rgba(60, 64, 67, 0.3), 0px 1px 3px 1px rgba(60, 64, 67, 0.15);\n",
              "      fill: #174EA6;\n",
              "    }\n",
              "\n",
              "    [theme=dark] .colab-df-convert {\n",
              "      background-color: #3B4455;\n",
              "      fill: #D2E3FC;\n",
              "    }\n",
              "\n",
              "    [theme=dark] .colab-df-convert:hover {\n",
              "      background-color: #434B5C;\n",
              "      box-shadow: 0px 1px 3px 1px rgba(0, 0, 0, 0.15);\n",
              "      filter: drop-shadow(0px 1px 2px rgba(0, 0, 0, 0.3));\n",
              "      fill: #FFFFFF;\n",
              "    }\n",
              "  </style>\n",
              "\n",
              "      <script>\n",
              "        const buttonEl =\n",
              "          document.querySelector('#df-c85097c7-045d-45b7-8174-e4ab06019465 button.colab-df-convert');\n",
              "        buttonEl.style.display =\n",
              "          google.colab.kernel.accessAllowed ? 'block' : 'none';\n",
              "\n",
              "        async function convertToInteractive(key) {\n",
              "          const element = document.querySelector('#df-c85097c7-045d-45b7-8174-e4ab06019465');\n",
              "          const dataTable =\n",
              "            await google.colab.kernel.invokeFunction('convertToInteractive',\n",
              "                                                     [key], {});\n",
              "          if (!dataTable) return;\n",
              "\n",
              "          const docLinkHtml = 'Like what you see? Visit the ' +\n",
              "            '<a target=\"_blank\" href=https://colab.research.google.com/notebooks/data_table.ipynb>data table notebook</a>'\n",
              "            + ' to learn more about interactive tables.';\n",
              "          element.innerHTML = '';\n",
              "          dataTable['output_type'] = 'display_data';\n",
              "          await google.colab.output.renderOutput(dataTable, element);\n",
              "          const docLink = document.createElement('div');\n",
              "          docLink.innerHTML = docLinkHtml;\n",
              "          element.appendChild(docLink);\n",
              "        }\n",
              "      </script>\n",
              "    </div>\n",
              "  </div>\n",
              "  "
            ]
          },
          "metadata": {},
          "execution_count": 193
        }
      ]
    },
    {
      "cell_type": "code",
      "source": [
        "df.columns"
      ],
      "metadata": {
        "colab": {
          "base_uri": "https://localhost:8080/"
        },
        "id": "zi9Mju2IKV1E",
        "outputId": "662b77b9-fbe0-43a6-adc3-4e27d2df7c9b"
      },
      "execution_count": 194,
      "outputs": [
        {
          "output_type": "execute_result",
          "data": {
            "text/plain": [
              "Index(['Pregnancies', 'Glucose', 'BloodPressure', 'SkinThickness', 'Insulin',\n",
              "       'BMI', 'DiabetesPedigreeFunction', 'Age', 'Outcome'],\n",
              "      dtype='object')"
            ]
          },
          "metadata": {},
          "execution_count": 194
        }
      ]
    },
    {
      "cell_type": "code",
      "source": [
        "df.shape"
      ],
      "metadata": {
        "colab": {
          "base_uri": "https://localhost:8080/"
        },
        "id": "zG0wPnqnMH0c",
        "outputId": "5bbbe247-99e3-4b1b-cdc1-4443be910c07"
      },
      "execution_count": 195,
      "outputs": [
        {
          "output_type": "execute_result",
          "data": {
            "text/plain": [
              "(768, 9)"
            ]
          },
          "metadata": {},
          "execution_count": 195
        }
      ]
    },
    {
      "cell_type": "markdown",
      "source": [
        "# Split the data into train and test \n",
        "you can use your own split or you can just use **sklearn** split i will expalin both methods don't worry :)"
      ],
      "metadata": {
        "id": "pqkwpATLMRhX"
      }
    },
    {
      "cell_type": "code",
      "source": [
        "#split data into train and test using sklearn it's so easy :)\n",
        "from sklearn.model_selection import train_test_split \n",
        "features=df[['Pregnancies', 'Glucose', 'BloodPressure', 'SkinThickness', 'Insulin',\n",
        "       'BMI', 'DiabetesPedigreeFunction', 'Age']]\n",
        "label=df[\"Outcome\"]\n",
        "\n",
        "x_train,x_test,y_train,y_test=train_test_split(features,label,test_size=0.2,random_state=42)"
      ],
      "metadata": {
        "id": "iH3SIsHaM5Sm"
      },
      "execution_count": 196,
      "outputs": []
    },
    {
      "cell_type": "code",
      "source": [
        "print(f\" the length of data for traing is : {len(x_train)}\")\n",
        "\n",
        "print(f\"the length of data for test  is :{len(x_test)}\")"
      ],
      "metadata": {
        "colab": {
          "base_uri": "https://localhost:8080/"
        },
        "id": "X-ziap8sN-O-",
        "outputId": "0c16ee38-bcb1-4a85-9ef7-3a4e5f98bf75"
      },
      "execution_count": 197,
      "outputs": [
        {
          "output_type": "stream",
          "name": "stdout",
          "text": [
            " the length of data for traing is : 614\n",
            "the length of data for test  is :154\n"
          ]
        }
      ]
    },
    {
      "cell_type": "code",
      "source": [
        "#now i will teach you how can split your data by our own\n",
        "x_train1=df[:450]\n",
        "y_train1=df[:450]\n",
        "x_test1=df[450:]\n",
        "y_test1=df[450:]\n",
        "print(f\" the length of data for traing is : {len(x_train1)}\")\n",
        "\n",
        "print(f\" the length of data for test  is :{len(x_test1)}\")"
      ],
      "metadata": {
        "colab": {
          "base_uri": "https://localhost:8080/"
        },
        "id": "VO00b3hLP_UY",
        "outputId": "071db9ad-c370-44b1-b3bd-816e70bc1f14"
      },
      "execution_count": 198,
      "outputs": [
        {
          "output_type": "stream",
          "name": "stdout",
          "text": [
            " the length of data for traing is : 450\n",
            " the length of data for test  is :318\n"
          ]
        }
      ]
    },
    {
      "cell_type": "code",
      "source": [
        "# that is cool i will use the  first split because it's common use ;)\n",
        "# i will transfom the type of data to tensor because we will build a MLP with pytorch \n",
        "#let's check the type of our data\n",
        "print(type(x_train))\n",
        "print(type(y_train))\n",
        "print(type(x_test))\n",
        "print(type(y_test))"
      ],
      "metadata": {
        "colab": {
          "base_uri": "https://localhost:8080/"
        },
        "id": "HHYTl3ESQhC4",
        "outputId": "9f519667-45cb-4f6c-b802-b4e184fe5182"
      },
      "execution_count": 199,
      "outputs": [
        {
          "output_type": "stream",
          "name": "stdout",
          "text": [
            "<class 'pandas.core.frame.DataFrame'>\n",
            "<class 'pandas.core.series.Series'>\n",
            "<class 'pandas.core.frame.DataFrame'>\n",
            "<class 'pandas.core.series.Series'>\n"
          ]
        }
      ]
    },
    {
      "cell_type": "code",
      "source": [
        "# so we need to trosform our data to numpy array then tensor let's do that together ;)\n",
        "import numpy as np\n",
        "x_train=np.array(x_train)\n",
        "y_train=np.array(y_train)\n",
        "\n",
        "x_test=np.array(x_test)\n",
        "y_test=np.array(y_test)\n",
        "\n",
        "print(type(x_train))\n",
        "print(type(y_train))\n",
        "print(type(x_test))\n",
        "print(type(y_test))"
      ],
      "metadata": {
        "colab": {
          "base_uri": "https://localhost:8080/"
        },
        "id": "BDfHEeaITaN6",
        "outputId": "16d492ec-7bf9-4bbc-c016-7413dc9fe163"
      },
      "execution_count": 200,
      "outputs": [
        {
          "output_type": "stream",
          "name": "stdout",
          "text": [
            "<class 'numpy.ndarray'>\n",
            "<class 'numpy.ndarray'>\n",
            "<class 'numpy.ndarray'>\n",
            "<class 'numpy.ndarray'>\n"
          ]
        }
      ]
    },
    {
      "cell_type": "code",
      "source": [
        "# trosform our data to tensor  let's do that together ;)\n",
        "x_train=torch.FloatTensor(x_train)\n",
        "y_train=torch.FloatTensor(y_train)\n",
        "x_test=torch.FloatTensor(x_test)\n",
        "y_test=torch.FloatTensor(y_test)\n",
        "print(type(x_train))\n",
        "print(type(y_train))\n",
        "print(type(x_test))\n",
        "print(type(y_test))"
      ],
      "metadata": {
        "colab": {
          "base_uri": "https://localhost:8080/"
        },
        "id": "Zq50cz_PUWCA",
        "outputId": "497214e2-391a-4da1-eec7-8a554b83eb82"
      },
      "execution_count": 201,
      "outputs": [
        {
          "output_type": "stream",
          "name": "stdout",
          "text": [
            "<class 'torch.Tensor'>\n",
            "<class 'torch.Tensor'>\n",
            "<class 'torch.Tensor'>\n",
            "<class 'torch.Tensor'>\n"
          ]
        }
      ]
    },
    {
      "cell_type": "code",
      "source": [
        "print(x_train.dtype)\n",
        "print(y_train.dtype)\n",
        "print(x_test.dtype)\n",
        "print(y_test.dtype)\n",
        "print(x_train.dtype)\n"
      ],
      "metadata": {
        "colab": {
          "base_uri": "https://localhost:8080/"
        },
        "id": "3bSsGYH9BiTz",
        "outputId": "8cd2fbc9-40b5-4a65-ff40-68128aafedf0"
      },
      "execution_count": 202,
      "outputs": [
        {
          "output_type": "stream",
          "name": "stdout",
          "text": [
            "torch.float32\n",
            "torch.float32\n",
            "torch.float32\n",
            "torch.float32\n",
            "torch.float32\n"
          ]
        }
      ]
    },
    {
      "cell_type": "code",
      "source": [
        "\n",
        "x_train = torch.tensor(x_train, dtype=torch.float32)\n",
        "y_train = torch.tensor(y_train, dtype=torch.long)\n",
        "x_test = torch.tensor(x_test, dtype=torch.float32)\n",
        "y_test = torch.tensor(y_test, dtype=torch.long)\n"
      ],
      "metadata": {
        "colab": {
          "base_uri": "https://localhost:8080/"
        },
        "id": "gPYVt0f3BiaC",
        "outputId": "13a8687e-ffb9-4861-b194-b90e92722883"
      },
      "execution_count": 203,
      "outputs": [
        {
          "output_type": "stream",
          "name": "stderr",
          "text": [
            "<ipython-input-203-0d12f9fb3f29>:1: UserWarning: To copy construct from a tensor, it is recommended to use sourceTensor.clone().detach() or sourceTensor.clone().detach().requires_grad_(True), rather than torch.tensor(sourceTensor).\n",
            "  x_train = torch.tensor(x_train, dtype=torch.float32)\n",
            "<ipython-input-203-0d12f9fb3f29>:2: UserWarning: To copy construct from a tensor, it is recommended to use sourceTensor.clone().detach() or sourceTensor.clone().detach().requires_grad_(True), rather than torch.tensor(sourceTensor).\n",
            "  y_train = torch.tensor(y_train, dtype=torch.long)\n",
            "<ipython-input-203-0d12f9fb3f29>:3: UserWarning: To copy construct from a tensor, it is recommended to use sourceTensor.clone().detach() or sourceTensor.clone().detach().requires_grad_(True), rather than torch.tensor(sourceTensor).\n",
            "  x_test = torch.tensor(x_test, dtype=torch.float32)\n",
            "<ipython-input-203-0d12f9fb3f29>:4: UserWarning: To copy construct from a tensor, it is recommended to use sourceTensor.clone().detach() or sourceTensor.clone().detach().requires_grad_(True), rather than torch.tensor(sourceTensor).\n",
            "  y_test = torch.tensor(y_test, dtype=torch.long)\n"
          ]
        }
      ]
    },
    {
      "cell_type": "code",
      "source": [
        "print(x_train.dtype)\n",
        "print(y_train.dtype)\n",
        "print(x_test.dtype)\n",
        "print(y_test.dtype)\n"
      ],
      "metadata": {
        "colab": {
          "base_uri": "https://localhost:8080/"
        },
        "id": "0UJUzDRKPn2E",
        "outputId": "641c0821-18c3-4df2-8791-65b866e6d32f"
      },
      "execution_count": 204,
      "outputs": [
        {
          "output_type": "stream",
          "name": "stdout",
          "text": [
            "torch.float32\n",
            "torch.int64\n",
            "torch.float32\n",
            "torch.int64\n"
          ]
        }
      ]
    },
    {
      "cell_type": "markdown",
      "source": [
        "# check the shape of ou data before build our model it's so important "
      ],
      "metadata": {
        "id": "qGSgWYIDKgcN"
      }
    },
    {
      "cell_type": "code",
      "source": [
        "print((x_train.shape))\n",
        "print((y_train.shape))\n",
        "print((x_test.shape))\n",
        "print((y_test.shape))"
      ],
      "metadata": {
        "colab": {
          "base_uri": "https://localhost:8080/"
        },
        "id": "KteD1VulMFMl",
        "outputId": "e9576ed4-fc8c-4d7c-eebe-ea3bb782ae88"
      },
      "execution_count": 205,
      "outputs": [
        {
          "output_type": "stream",
          "name": "stdout",
          "text": [
            "torch.Size([614, 8])\n",
            "torch.Size([614])\n",
            "torch.Size([154, 8])\n",
            "torch.Size([154])\n"
          ]
        }
      ]
    },
    {
      "cell_type": "code",
      "source": [
        "x_train.shape[1]"
      ],
      "metadata": {
        "colab": {
          "base_uri": "https://localhost:8080/"
        },
        "id": "z4s0DFkvedl1",
        "outputId": "696ef019-c368-4e96-9f14-bcdc71580813"
      },
      "execution_count": 206,
      "outputs": [
        {
          "output_type": "execute_result",
          "data": {
            "text/plain": [
              "8"
            ]
          },
          "metadata": {},
          "execution_count": 206
        }
      ]
    },
    {
      "cell_type": "markdown",
      "source": [
        "# build multi layer perceptron with one hidden layer *we have 8 input in our dataset not 4 like in this exemple*\n",
        "![mlp.png](data:image/png;base64,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)"
      ],
      "metadata": {
        "id": "YH3ov4EKWk67"
      }
    },
    {
      "cell_type": "code",
      "source": [
        "import torch\n",
        "import torch.nn as nn\n",
        "import torch.nn.functional as F\n",
        "torch.manual_seed(0)\n",
        "\n",
        "# Here's a simple MLP\n",
        "class SimpleMLP(nn.Module):\n",
        "    def __init__(self):\n",
        "        super(SimpleMLP, self).__init__()\n",
        "        self.fc1 = nn.Linear(8, 5)\n",
        "        self.fc2 = nn.Linear(5, 3)\n",
        "        self.fc3 = nn.Linear(3, 2)\n",
        "\n",
        "    def forward(self, x):\n",
        "        x = x.flatten(1)\n",
        "        x = self.fc1(x)\n",
        "        x = F.relu(x)\n",
        "        x = self.fc2(x)\n",
        "        x = F.relu(x)\n",
        "        x = self.fc3(x)\n",
        "        return x\n",
        "mlp=SimpleMLP()"
      ],
      "metadata": {
        "id": "_LFa2lDmVtjN"
      },
      "execution_count": 207,
      "outputs": []
    },
    {
      "cell_type": "code",
      "source": [
        "list(mlp.parameters())"
      ],
      "metadata": {
        "colab": {
          "base_uri": "https://localhost:8080/"
        },
        "id": "WTd4P-hHcSMx",
        "outputId": "3a76dbce-42a0-4929-f4e0-964f07e5c180"
      },
      "execution_count": 208,
      "outputs": [
        {
          "output_type": "execute_result",
          "data": {
            "text/plain": [
              "[Parameter containing:\n",
              " tensor([[-0.0026,  0.1897, -0.2910, -0.2602, -0.1362,  0.0948, -0.0070,  0.2803],\n",
              "         [-0.0314,  0.0936, -0.1068, -0.0695, -0.3378, -0.2342, -0.1457,  0.0131],\n",
              "         [ 0.1398,  0.2121, -0.2397, -0.1540,  0.1284,  0.2936, -0.0728,  0.2646],\n",
              "         [-0.0570,  0.0374,  0.3201, -0.3280, -0.2226, -0.0895, -0.1378,  0.3055],\n",
              "         [-0.2292, -0.1628, -0.2470, -0.3311, -0.2064,  0.3039,  0.1578,  0.1714]],\n",
              "        requires_grad=True),\n",
              " Parameter containing:\n",
              " tensor([ 0.0186, -0.1813,  0.0598, -0.3301, -0.2555], requires_grad=True),\n",
              " Parameter containing:\n",
              " tensor([[-0.2306,  0.2822,  0.2622, -0.1983, -0.0161],\n",
              "         [ 0.2860,  0.4446,  0.1775,  0.0604,  0.2999],\n",
              "         [-0.2633,  0.0833, -0.3467, -0.3100, -0.2310]], requires_grad=True),\n",
              " Parameter containing:\n",
              " tensor([ 0.2024,  0.1799, -0.2649], requires_grad=True),\n",
              " Parameter containing:\n",
              " tensor([[ 0.1744,  0.3169, -0.0729],\n",
              "         [ 0.0220,  0.1338,  0.3582]], requires_grad=True),\n",
              " Parameter containing:\n",
              " tensor([ 0.5544, -0.4449], requires_grad=True)]"
            ]
          },
          "metadata": {},
          "execution_count": 208
        }
      ]
    },
    {
      "cell_type": "code",
      "source": [
        "# create a loss function \n",
        "loss_fn=nn.CrossEntropyLoss()\n",
        "# create optimizer\n",
        "optimizer=torch.optim.Adam(params=mlp.parameters(),lr=0.001) #lr is a hyperparameter"
      ],
      "metadata": {
        "id": "xeA1a5tOeN45"
      },
      "execution_count": 209,
      "outputs": []
    },
    {
      "cell_type": "code",
      "source": [
        "x=torch.rand(3,8)\n",
        "mlp.forward(x_train)"
      ],
      "metadata": {
        "colab": {
          "base_uri": "https://localhost:8080/"
        },
        "id": "BIYJt5JYIPWG",
        "outputId": "080cfd54-e55c-40a1-dac7-427b0628ab0c"
      },
      "execution_count": 210,
      "outputs": [
        {
          "output_type": "execute_result",
          "data": {
            "text/plain": [
              "tensor([[5.5157, 1.5565],\n",
              "        [3.2782, 0.7047],\n",
              "        [5.0709, 0.9689],\n",
              "        ...,\n",
              "        [2.2835, 0.2672],\n",
              "        [8.2150, 2.6156],\n",
              "        [2.5958, 0.4167]], grad_fn=<AddmmBackward0>)"
            ]
          },
          "metadata": {},
          "execution_count": 210
        }
      ]
    },
    {
      "cell_type": "markdown",
      "source": [
        "# Train the model"
      ],
      "metadata": {
        "id": "HQtASYP4KhDB"
      }
    },
    {
      "cell_type": "code",
      "source": [
        "\n",
        "\n",
        "def TrainMlp(model,x_train,y_train,criterion,optimizer):\n",
        "    running_loss=0.0\n",
        "    running_correct=0.0\n",
        "    model.train()\n",
        "    outputs=model(x_train)\n",
        "    loss=criterion(outputs, y_train)\n",
        "    \n",
        "    optimizer.zero_grad()\n",
        "    loss.backward()\n",
        "    optimizer.step()\n",
        "    _,preds=torch.max(outputs,1)\n",
        "    running_loss+=loss.item()*x_train.size(0)\n",
        "    running_correct+=torch.sum(preds==y_train.data)\n",
        "    epoch_loss=running_loss/len(x_train)\n",
        "    epoch_acc=running_correct/len(x_train)\n",
        "    return epoch_acc, epoch_loss\n",
        "\n",
        "epoch_acc, epoch_loss = TrainMlp(mlp, x_train, y_train, nn.CrossEntropyLoss(), optimizer)\n"
      ],
      "metadata": {
        "id": "fgoRzWDlgjRk"
      },
      "execution_count": 211,
      "outputs": []
    },
    {
      "cell_type": "markdown",
      "source": [
        "# Test the model"
      ],
      "metadata": {
        "id": "umNUrK4UKhg-"
      }
    },
    {
      "cell_type": "code",
      "source": [
        "def testMlp(model,x_test,y_test,criterion,optimizer):\n",
        "  model.eval()\n",
        "  running_loss=0.0\n",
        "  running_correct=0.0\n",
        "  outputs=model(x_test)\n",
        "  loss=criterion(outputs,y_test)\n",
        "  _,preds=torch.max(outputs,1)\n",
        "  running_loss+=loss.item()*x_test.size(0)\n",
        "  running_correct+=torch.sum(preds==y_test.data)\n",
        "  epoch_loss=running_loss/ len(x_test)\n",
        "  epoch_acc=running_correct/ len(x_test)\n",
        "  return epoch_acc,epoch_loss\n"
      ],
      "metadata": {
        "id": "7tcNkcVQlyZ6"
      },
      "execution_count": 212,
      "outputs": []
    },
    {
      "cell_type": "code",
      "source": [],
      "metadata": {
        "id": "dSzNtuLQqdAG"
      },
      "execution_count": 212,
      "outputs": []
    },
    {
      "cell_type": "code",
      "source": [
        "epochs=600\n",
        "final_losses=[]\n",
        "final_accuarcy=[]\n",
        "preds=[]\n",
        "test_losses=[]\n",
        "test_accuracy=[]\n",
        "for epoch in range(epochs):\n",
        "  epoch=epoch+1\n",
        "  epoch_acc,epoch_loss=TrainMlp(mlp,x_train,y_train,loss_fn,optimizer)\n",
        "  final_losses.append(epoch_loss)\n",
        "  final_accuarcy.append(epoch_acc)\n",
        "\n",
        "  test_acc,test_loss=testMlp(mlp,x_test,y_test,loss_fn,optimizer)\n",
        "  test_losses.append(test_loss)\n",
        "  test_accuracy.append(test_acc)\n",
        "  if epoch % 50 == 1:\n",
        "    print(f\" Epoch number : {epoch}  the loss :  {epoch_loss :.4f} | and the accuarcy : {100 *epoch_acc :.2f}\")\n",
        "\n",
        "   \n",
        "\n",
        "print(f\" the accuarcy : {100 *epoch_acc :.2f}\")\n"
      ],
      "metadata": {
        "colab": {
          "base_uri": "https://localhost:8080/"
        },
        "id": "E1bi2yE6nnQI",
        "outputId": "d1d2859c-6065-4031-b8d0-e85d2ae4033b"
      },
      "execution_count": 213,
      "outputs": [
        {
          "output_type": "stream",
          "name": "stdout",
          "text": [
            " Epoch number : 1  the loss :  1.4793 | and the accuarcy : 65.31\n",
            " Epoch number : 51  the loss :  0.7682 | and the accuarcy : 65.31\n",
            " Epoch number : 101  the loss :  0.6742 | and the accuarcy : 65.31\n",
            " Epoch number : 151  the loss :  0.6548 | and the accuarcy : 65.31\n",
            " Epoch number : 201  the loss :  0.6504 | and the accuarcy : 65.31\n",
            " Epoch number : 251  the loss :  0.6484 | and the accuarcy : 65.31\n",
            " Epoch number : 301  the loss :  0.6472 | and the accuarcy : 65.31\n",
            " Epoch number : 351  the loss :  0.6465 | and the accuarcy : 65.31\n",
            " Epoch number : 401  the loss :  0.6460 | and the accuarcy : 65.31\n",
            " Epoch number : 451  the loss :  0.6457 | and the accuarcy : 65.31\n",
            " Epoch number : 501  the loss :  0.6454 | and the accuarcy : 65.31\n",
            " Epoch number : 551  the loss :  0.6452 | and the accuarcy : 65.31\n",
            " the accuarcy : 65.31\n"
          ]
        }
      ]
    },
    {
      "cell_type": "code",
      "source": [
        "import matplotlib.pyplot as plt\n",
        "\n",
        "plt.plot(range(epochs), final_losses ,)\n",
        "plt.plot(range(epochs), test_losses ,)\n",
        "plt.xlabel(\"Epochs\")\n",
        "plt.ylabel(\"Loss\")\n",
        "plt.legend([\"Train\", \"Test\"])\n",
        "plt.title('Train vs Test loss')\n",
        "plt.show()\n"
      ],
      "metadata": {
        "colab": {
          "base_uri": "https://localhost:8080/",
          "height": 472
        },
        "id": "cYKRHTWdqOK8",
        "outputId": "4f07b802-3ff8-4a73-8624-66a23d87a099"
      },
      "execution_count": 214,
      "outputs": [
        {
          "output_type": "display_data",
          "data": {
            "text/plain": [
              "<Figure size 640x480 with 1 Axes>"
            ],
            "image/png": "[encoded data removed]"
          },
          "metadata": {}
        }
      ]
    },
    {
      "cell_type": "code",
      "source": [
        "import matplotlib.pyplot as plt\n",
        "\n",
        "plt.plot(range(epochs), final_accuarcy ,)\n",
        "plt.plot(range(epochs), test_accuracy ,)\n",
        "plt.xlabel(\"Epochs\")\n",
        "plt.ylabel(\"Accuracy\")\n",
        "plt.legend([\"Train\", \"Test\"])\n",
        "plt.title('Train vs Test loss')\n",
        "plt.show()"
      ],
      "metadata": {
        "colab": {
          "base_uri": "https://localhost:8080/",
          "height": 472
        },
        "id": "0IQlV3XoTUaC",
        "outputId": "0c10c555-e48e-4ae3-c5be-f10220907559"
      },
      "execution_count": 215,
      "outputs": [
        {
          "output_type": "display_data",
          "data": {
            "text/plain": [
              "<Figure size 640x480 with 1 Axes>"
            ],
            "image/png": "[encoded data removed]"
          },
          "metadata": {}
        }
      ]
    },
    {
      "cell_type": "code",
      "source": [],
      "metadata": {
        "id": "-y96qOKvZo-B"
      },
      "execution_count": 215,
      "outputs": []
    }
  ]
}